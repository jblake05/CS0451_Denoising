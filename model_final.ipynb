{
  "cells": [
    {
      "cell_type": "code",
      "execution_count": null,
      "metadata": {
        "colab": {
          "base_uri": "https://localhost:8080/"
        },
        "id": "S0Od2EyLi3tR",
        "outputId": "b56af6c0-faa6-4364-e56e-bf7eaa4ec94f"
      },
      "outputs": [
        {
          "name": "stdout",
          "output_type": "stream",
          "text": [
            "Collecting torchviz\n",
            "  Downloading torchviz-0.0.2.tar.gz (4.9 kB)\n",
            "  Preparing metadata (setup.py) ... \u001b[?25l\u001b[?25hdone\n",
            "Requirement already satisfied: torch in /usr/local/lib/python3.10/dist-packages (from torchviz) (2.2.1+cu121)\n",
            "Requirement already satisfied: graphviz in /usr/local/lib/python3.10/dist-packages (from torchviz) (0.20.3)\n",
            "Requirement already satisfied: filelock in /usr/local/lib/python3.10/dist-packages (from torch->torchviz) (3.14.0)\n",
            "Requirement already satisfied: typing-extensions>=4.8.0 in /usr/local/lib/python3.10/dist-packages (from torch->torchviz) (4.11.0)\n",
            "Requirement already satisfied: sympy in /usr/local/lib/python3.10/dist-packages (from torch->torchviz) (1.12)\n",
            "Requirement already satisfied: networkx in /usr/local/lib/python3.10/dist-packages (from torch->torchviz) (3.3)\n",
            "Requirement already satisfied: jinja2 in /usr/local/lib/python3.10/dist-packages (from torch->torchviz) (3.1.3)\n",
            "Requirement already satisfied: fsspec in /usr/local/lib/python3.10/dist-packages (from torch->torchviz) (2023.6.0)\n",
            "Collecting nvidia-cuda-nvrtc-cu12==12.1.105 (from torch->torchviz)\n",
            "  Using cached nvidia_cuda_nvrtc_cu12-12.1.105-py3-none-manylinux1_x86_64.whl (23.7 MB)\n",
            "Collecting nvidia-cuda-runtime-cu12==12.1.105 (from torch->torchviz)\n",
            "  Using cached nvidia_cuda_runtime_cu12-12.1.105-py3-none-manylinux1_x86_64.whl (823 kB)\n",
            "Collecting nvidia-cuda-cupti-cu12==12.1.105 (from torch->torchviz)\n",
            "  Using cached nvidia_cuda_cupti_cu12-12.1.105-py3-none-manylinux1_x86_64.whl (14.1 MB)\n",
            "Collecting nvidia-cudnn-cu12==8.9.2.26 (from torch->torchviz)\n",
            "  Using cached nvidia_cudnn_cu12-8.9.2.26-py3-none-manylinux1_x86_64.whl (731.7 MB)\n",
            "Collecting nvidia-cublas-cu12==12.1.3.1 (from torch->torchviz)\n",
            "  Using cached nvidia_cublas_cu12-12.1.3.1-py3-none-manylinux1_x86_64.whl (410.6 MB)\n",
            "Collecting nvidia-cufft-cu12==11.0.2.54 (from torch->torchviz)\n",
            "  Using cached nvidia_cufft_cu12-11.0.2.54-py3-none-manylinux1_x86_64.whl (121.6 MB)\n",
            "Collecting nvidia-curand-cu12==10.3.2.106 (from torch->torchviz)\n",
            "  Using cached nvidia_curand_cu12-10.3.2.106-py3-none-manylinux1_x86_64.whl (56.5 MB)\n",
            "Collecting nvidia-cusolver-cu12==11.4.5.107 (from torch->torchviz)\n",
            "  Using cached nvidia_cusolver_cu12-11.4.5.107-py3-none-manylinux1_x86_64.whl (124.2 MB)\n",
            "Collecting nvidia-cusparse-cu12==12.1.0.106 (from torch->torchviz)\n",
            "  Using cached nvidia_cusparse_cu12-12.1.0.106-py3-none-manylinux1_x86_64.whl (196.0 MB)\n",
            "Collecting nvidia-nccl-cu12==2.19.3 (from torch->torchviz)\n",
            "  Using cached nvidia_nccl_cu12-2.19.3-py3-none-manylinux1_x86_64.whl (166.0 MB)\n",
            "Collecting nvidia-nvtx-cu12==12.1.105 (from torch->torchviz)\n",
            "  Using cached nvidia_nvtx_cu12-12.1.105-py3-none-manylinux1_x86_64.whl (99 kB)\n",
            "Requirement already satisfied: triton==2.2.0 in /usr/local/lib/python3.10/dist-packages (from torch->torchviz) (2.2.0)\n",
            "Collecting nvidia-nvjitlink-cu12 (from nvidia-cusolver-cu12==11.4.5.107->torch->torchviz)\n",
            "  Using cached nvidia_nvjitlink_cu12-12.4.127-py3-none-manylinux2014_x86_64.whl (21.1 MB)\n",
            "Requirement already satisfied: MarkupSafe>=2.0 in /usr/local/lib/python3.10/dist-packages (from jinja2->torch->torchviz) (2.1.5)\n",
            "Requirement already satisfied: mpmath>=0.19 in /usr/local/lib/python3.10/dist-packages (from sympy->torch->torchviz) (1.3.0)\n",
            "Building wheels for collected packages: torchviz\n",
            "  Building wheel for torchviz (setup.py) ... \u001b[?25l\u001b[?25hdone\n",
            "  Created wheel for torchviz: filename=torchviz-0.0.2-py3-none-any.whl size=4132 sha256=fcec7cd8b142a93348a176725ee854bc760e3b45044351988a000fe2da2fec09\n",
            "  Stored in directory: /root/.cache/pip/wheels/4c/97/88/a02973217949e0db0c9f4346d154085f4725f99c4f15a87094\n",
            "Successfully built torchviz\n",
            "Installing collected packages: nvidia-nvtx-cu12, nvidia-nvjitlink-cu12, nvidia-nccl-cu12, nvidia-curand-cu12, nvidia-cufft-cu12, nvidia-cuda-runtime-cu12, nvidia-cuda-nvrtc-cu12, nvidia-cuda-cupti-cu12, nvidia-cublas-cu12, nvidia-cusparse-cu12, nvidia-cudnn-cu12, nvidia-cusolver-cu12, torchviz\n",
            "Successfully installed nvidia-cublas-cu12-12.1.3.1 nvidia-cuda-cupti-cu12-12.1.105 nvidia-cuda-nvrtc-cu12-12.1.105 nvidia-cuda-runtime-cu12-12.1.105 nvidia-cudnn-cu12-8.9.2.26 nvidia-cufft-cu12-11.0.2.54 nvidia-curand-cu12-10.3.2.106 nvidia-cusolver-cu12-11.4.5.107 nvidia-cusparse-cu12-12.1.0.106 nvidia-nccl-cu12-2.19.3 nvidia-nvjitlink-cu12-12.4.127 nvidia-nvtx-cu12-12.1.105 torchviz-0.0.2\n",
            "Requirement already satisfied: torchsummary in /usr/local/lib/python3.10/dist-packages (1.5.1)\n"
          ]
        }
      ],
      "source": [
        "%pip install torchviz\n",
        "%pip install torchsummary\n",
        "import torch\n",
        "import pandas as pd\n",
        "from matplotlib import pyplot as plt\n",
        "import matplotlib.ticker as mtick\n",
        "from torch.nn import Conv2d, MaxPool2d, Parameter\n",
        "from torch.nn.functional import relu\n",
        "from torchviz import make_dot, make_dot_from_trace\n",
        "from torchvision import models\n",
        "from sklearn.metrics import confusion_matrix\n",
        "\n",
        "import os\n",
        "import librosa\n",
        "from scipy.io import wavfile\n",
        "import numpy as np\n",
        "from sklearn.model_selection import train_test_split"
      ]
    },
    {
      "cell_type": "code",
      "execution_count": null,
      "metadata": {
        "colab": {
          "base_uri": "https://localhost:8080/"
        },
        "id": "cnQpY_b1i3tT",
        "outputId": "e1e084df-283e-4ae8-eb3d-7944681bd9ca"
      },
      "outputs": [
        {
          "name": "stdout",
          "output_type": "stream",
          "text": [
            "Running on cuda.\n"
          ]
        }
      ],
      "source": [
        "device = \"cuda\" if torch.cuda.is_available() else \"cpu\"\n",
        "print(f\"Running on {device}.\")"
      ]
    },
    {
      "cell_type": "markdown",
      "metadata": {
        "id": "gYKMSrkDi3tU"
      },
      "source": [
        "### Get Data\n",
        "\n",
        "First, we're going to clone the Microsoft Scalable Noisy Speech Dataset **(MS-SNSD)** repository so we can access the helpful file structure they've laid out.\n",
        "\n"
      ]
    },
    {
      "cell_type": "code",
      "execution_count": null,
      "metadata": {
        "colab": {
          "base_uri": "https://localhost:8080/"
        },
        "id": "lovPZL4PCbn_",
        "outputId": "ffad64b5-9023-421e-9c54-ab9bf1482ad3"
      },
      "outputs": [
        {
          "name": "stdout",
          "output_type": "stream",
          "text": [
            "Cloning into 'MS-SNSD'...\n",
            "remote: Enumerating objects: 29924, done.\u001b[K\n",
            "remote: Counting objects: 100% (9/9), done.\u001b[K\n",
            "remote: Compressing objects: 100% (8/8), done.\u001b[K\n",
            "remote: Total 29924 (delta 2), reused 7 (delta 1), pack-reused 29915\u001b[K\n",
            "Receiving objects: 100% (29924/29924), 3.93 GiB | 44.83 MiB/s, done.\n",
            "Resolving deltas: 100% (80/80), done.\n",
            "Updating files: 100% (24399/24399), done.\n"
          ]
        }
      ],
      "source": [
        "!git clone https://github.com/microsoft/MS-SNSD.git"
      ]
    },
    {
      "cell_type": "markdown",
      "metadata": {
        "id": "AGwP11tMCaCt"
      },
      "source": [
        "We also want to get our custom synthesizer file, so we'll clone our own repo."
      ]
    },
    {
      "cell_type": "code",
      "execution_count": null,
      "metadata": {
        "colab": {
          "base_uri": "https://localhost:8080/"
        },
        "id": "XmE93rEwCTF3",
        "outputId": "ca975360-2075-482c-f62d-8a0241b2463a"
      },
      "outputs": [
        {
          "name": "stdout",
          "output_type": "stream",
          "text": [
            "Cloning into 'CS0451_Denoising'...\n",
            "remote: Enumerating objects: 96, done.\u001b[K\n",
            "remote: Counting objects: 100% (96/96), done.\u001b[K\n",
            "remote: Compressing objects: 100% (64/64), done.\u001b[K\n",
            "remote: Total 96 (delta 32), reused 70 (delta 21), pack-reused 0\u001b[K\n",
            "Receiving objects: 100% (96/96), 2.37 MiB | 7.12 MiB/s, done.\n",
            "Resolving deltas: 100% (32/32), done.\n"
          ]
        }
      ],
      "source": [
        "!git clone https://github.com/jblake05/CS0451_Denoising.git"
      ]
    },
    {
      "cell_type": "markdown",
      "metadata": {
        "id": "r0Oby3AqcuRK"
      },
      "source": [
        "Use the copy command line program to move the synthesizer file to the directory it needs to be in to work."
      ]
    },
    {
      "cell_type": "code",
      "execution_count": null,
      "metadata": {
        "id": "jwwQVB0Actby"
      },
      "outputs": [],
      "source": [
        "!cp CS0451_Denoising/synthesizer.py MS-SNSD"
      ]
    },
    {
      "cell_type": "markdown",
      "metadata": {
        "id": "PnI1Prl1IxCq"
      },
      "source": [
        "#### We'll then run synthesizer.py to generate noisy speech files\n",
        "---\n",
        "The repo initially contains a folder of clean speech with no noise, and pure noise files with no speech. There is a test and train folder for each.\n",
        "\n",
        "Their code with create a new test and train folder of speech combined with noise - this is what we'll be comparing to the clean speech files.\n",
        "\n"
      ]
    },
    {
      "cell_type": "code",
      "execution_count": null,
      "metadata": {
        "id": "83oZPdY8Jfg_"
      },
      "outputs": [],
      "source": [
        "!python MS-SNSD/synthesizer.py"
      ]
    },
    {
      "cell_type": "markdown",
      "metadata": {
        "id": "d3wGqcmimKhk"
      },
      "source": [
        "We now have 3 new folders:\n",
        "\n",
        "\n",
        "*   CleanSpeech_training - clean speech (no noise)\n",
        "*   Noise_training - just background noise (no speech)\n",
        "*   NoisySpeech_training - combination of speech and noise.\n",
        "\n",
        "\n",
        "\n"
      ]
    },
    {
      "cell_type": "markdown",
      "metadata": {
        "id": "k13zZz2XUeay"
      },
      "source": [
        "#### Declare our sample rate globally\n",
        "Sample rate is the amount of samples (datapoints) per second in the audio files contained within the MS-SNSD dataset."
      ]
    },
    {
      "cell_type": "code",
      "execution_count": null,
      "metadata": {
        "id": "DHBBS0vei3tW"
      },
      "outputs": [],
      "source": [
        "SRATE = 16000"
      ]
    },
    {
      "cell_type": "markdown",
      "metadata": {},
      "source": [
        "Next, we can declare our directories to the data made by synthesizer.py"
      ]
    },
    {
      "cell_type": "code",
      "execution_count": null,
      "metadata": {
        "colab": {
          "base_uri": "https://localhost:8080/"
        },
        "id": "XV8FT-fmi3tW",
        "outputId": "e55365d6-733d-4e7c-c85d-d6389675a1fd"
      },
      "outputs": [
        {
          "data": {
            "text/plain": [
              "1226"
            ]
          },
          "execution_count": 144,
          "metadata": {},
          "output_type": "execute_result"
        }
      ],
      "source": [
        "clean_train_dir = \"./MS-SNSD/CleanSpeech_training/\"\n",
        "\n",
        "df_clean_train = os.listdir(clean_train_dir)\n",
        "\n",
        "len(df_clean_train)"
      ]
    },
    {
      "cell_type": "code",
      "execution_count": null,
      "metadata": {
        "colab": {
          "base_uri": "https://localhost:8080/"
        },
        "id": "1BUFdiayi3tX",
        "outputId": "46f5f368-6895-4fe1-995c-9f7520dc88d1"
      },
      "outputs": [
        {
          "data": {
            "text/plain": [
              "(1226, 1474, 1474)"
            ]
          },
          "execution_count": 146,
          "metadata": {},
          "output_type": "execute_result"
        }
      ],
      "source": [
        "clean_speech_dir = \"./MS-SNSD/CleanSpeech_training/\"\n",
        "clean_speech = os.listdir(clean_speech_dir)\n",
        "\n",
        "noise_dir = \"./MS-SNSD/Noise_training/\"\n",
        "noise = os.listdir(noise_dir)\n",
        "\n",
        "noisy_speech_dir = \"./MS-SNSD/NoisySpeech_training/\"\n",
        "noisy_speech = os.listdir(noisy_speech_dir)\n",
        "\n",
        "len(clean_speech), len(noise), len(noisy_speech)"
      ]
    },
    {
      "cell_type": "markdown",
      "metadata": {},
      "source": [
        "After this, we can create a test mels-spectrogram using librosa:"
      ]
    },
    {
      "cell_type": "code",
      "execution_count": null,
      "metadata": {
        "colab": {
          "base_uri": "https://localhost:8080/"
        },
        "id": "FEIMgMMxi3tY",
        "outputId": "7e1b8797-108c-4dcd-b8bf-9bdc5f186b19"
      },
      "outputs": [
        {
          "data": {
            "text/plain": [
              "(128, 366)"
            ]
          },
          "execution_count": 147,
          "metadata": {},
          "output_type": "execute_result"
        }
      ],
      "source": [
        "num_seconds = 10\n",
        "\n",
        "data, srate = librosa.load(path=clean_speech_dir + clean_speech[0], sr=SRATE)\n",
        "mels = librosa.feature.melspectrogram(y=data, sr=srate)\n",
        "\n",
        "mels.shape"
      ]
    },
    {
      "cell_type": "markdown",
      "metadata": {},
      "source": [
        "Plotting the spectrogram array with matplotlib, we see a spectrogram with power levels displayed across different frequencies and time:"
      ]
    },
    {
      "cell_type": "code",
      "execution_count": null,
      "metadata": {
        "colab": {
          "base_uri": "https://localhost:8080/",
          "height": 488
        },
        "id": "cEbfDKqOi3tY",
        "outputId": "d4be3038-e6a5-4210-ee91-a81c5ab97add"
      },
      "outputs": [
        {
          "data": {
            "text/plain": [
              "[Text(0.5, 1.0, 'Mel-frequency spectrogram')]"
            ]
          },
          "execution_count": 149,
          "metadata": {},
          "output_type": "execute_result"
        },
        {
          "data": {
            "image/png": "[encoded data removed]",
            "text/plain": [
              "<Figure size 640x480 with 2 Axes>"
            ]
          },
          "metadata": {},
          "output_type": "display_data"
        }
      ],
      "source": [
        "fig, ax = plt.subplots()\n",
        "S_dB = librosa.power_to_db(mels, ref=np.max)\n",
        "img = librosa.display.specshow(S_dB, x_axis='time',\n",
        "                         y_axis='mel', sr=srate,\n",
        "                         fmax=16000, ax=ax)\n",
        "fig.colorbar(img, ax=ax, format='%+2.0f dB')\n",
        "ax.set(title='Mel-frequency spectrogram')"
      ]
    },
    {
      "cell_type": "code",
      "execution_count": null,
      "metadata": {
        "colab": {
          "base_uri": "https://localhost:8080/"
        },
        "id": "uZrxB09ni3tZ",
        "outputId": "273406af-f131-47dd-e136-c68aa09b1984"
      },
      "outputs": [
        {
          "data": {
            "text/plain": [
              "(128, 366)"
            ]
          },
          "execution_count": 150,
          "metadata": {},
          "output_type": "execute_result"
        }
      ],
      "source": [
        "S_dB.shape"
      ]
    },
    {
      "cell_type": "markdown",
      "metadata": {},
      "source": [
        "Using our test spectrogram, we can create an empty tensor with one color channel and the same dimensions as features"
      ]
    },
    {
      "cell_type": "code",
      "execution_count": null,
      "metadata": {
        "id": "0UDub0tji3tZ"
      },
      "outputs": [],
      "source": [
        "# create our torch tensor X\n",
        "\n",
        "X = torch.empty((len(noisy_speech) + len(clean_speech), 1, S_dB.shape[0], S_dB.shape[1]))"
      ]
    },
    {
      "cell_type": "markdown",
      "metadata": {},
      "source": [
        "Then, we can populate X by iterating over the files in our directories, starting with the noisy speech data"
      ]
    },
    {
      "cell_type": "code",
      "execution_count": null,
      "metadata": {
        "id": "Ii1bvY4Xi3ta"
      },
      "outputs": [],
      "source": [
        "for i in range(0, len(noisy_speech)):\n",
        "    data, srate = librosa.load(noisy_speech_dir + noisy_speech[i], sr=SRATE)\n",
        "    data = data[:srate*10]\n",
        "    mels = librosa.feature.melspectrogram(y=data, sr=srate)\n",
        "    S_dB = librosa.power_to_db(mels, ref=np.max)\n",
        "\n",
        "    X[i][0] = torch.tensor(S_dB)\n",
        "\n",
        "    i += 1"
      ]
    },
    {
      "cell_type": "code",
      "execution_count": null,
      "metadata": {
        "colab": {
          "base_uri": "https://localhost:8080/"
        },
        "id": "A934qeuQhGu8",
        "outputId": "c2509df6-8fd6-4a74-eed8-a53411f1dd4f"
      },
      "outputs": [
        {
          "data": {
            "text/plain": [
              "torch.Size([2700, 1, 128, 313])"
            ]
          },
          "execution_count": 154,
          "metadata": {},
          "output_type": "execute_result"
        }
      ],
      "source": [
        "X.shape"
      ]
    },
    {
      "cell_type": "markdown",
      "metadata": {},
      "source": [
        "Then, we can populate X with our clean speech data"
      ]
    },
    {
      "cell_type": "code",
      "execution_count": null,
      "metadata": {
        "id": "sqRUrT2Yi3ta"
      },
      "outputs": [],
      "source": [
        "for i in range(len(noisy_speech), len(noisy_speech) + len(clean_speech)):\n",
        "    # can grab more from just the clean_train folder, but right now I'm just grabbing what formed the training data\n",
        "    data, srate = librosa.load(clean_speech_dir + clean_speech[i - len(noisy_speech)], sr=SRATE)\n",
        "    data = data[:srate*10]\n",
        "    mels = librosa.feature.melspectrogram(y=data, sr=srate)\n",
        "    S_dB = librosa.power_to_db(mels, ref=np.max)\n",
        "\n",
        "    X[i][0] = torch.tensor(S_dB)\n",
        "\n",
        "    i += 1\n",
        "\n",
        "# move X_train to GPU if available\n",
        "X = X.to(device)"
      ]
    },
    {
      "cell_type": "markdown",
      "metadata": {},
      "source": [
        "After this, we can populate the y tensor by adding ones if its index is less than the amount of noisy speech files, adding 0 after that"
      ]
    },
    {
      "cell_type": "code",
      "execution_count": null,
      "metadata": {
        "colab": {
          "base_uri": "https://localhost:8080/"
        },
        "id": "-rSobbcFi3tb",
        "outputId": "2d9dc024-2418-4b17-d5f6-902a7a269f72"
      },
      "outputs": [
        {
          "data": {
            "text/plain": [
              "tensor([1, 1, 1,  ..., 0, 0, 0], device='cuda:0')"
            ]
          },
          "execution_count": 156,
          "metadata": {},
          "output_type": "execute_result"
        }
      ],
      "source": [
        "y = torch.empty((len(noisy_speech) + len(clean_speech)), dtype=torch.long)\n",
        "for i in range(0, y.shape[0]):\n",
        "    y[i] = 1 if i < len(noisy_speech) else 0\n",
        "\n",
        "# move y to GPU if available\n",
        "y = y.to(device)\n",
        "y"
      ]
    },
    {
      "cell_type": "markdown",
      "metadata": {},
      "source": [
        "We can then change these tensors into train and test values using scikit's train_test_split:"
      ]
    },
    {
      "cell_type": "code",
      "execution_count": null,
      "metadata": {
        "id": "IaB6orfBi3tb"
      },
      "outputs": [],
      "source": [
        "# divide data into train test split\n",
        "X_train, X_val, y_train, y_val = train_test_split(X, y, shuffle = True, test_size = 0.2)"
      ]
    },
    {
      "cell_type": "markdown",
      "metadata": {
        "id": "JFZFPQgMi3tb"
      },
      "source": [
        "### Data Loaders"
      ]
    },
    {
      "cell_type": "markdown",
      "metadata": {},
      "source": [
        "We then create dataloaders for training and testing data to be used in batch training"
      ]
    },
    {
      "cell_type": "code",
      "execution_count": null,
      "metadata": {
        "id": "PlFfR-Gji3tc"
      },
      "outputs": [],
      "source": [
        "data_loader_train = torch.utils.data.DataLoader(\n",
        "    torch.utils.data.TensorDataset(X_train, y_train),\n",
        "    batch_size = 32,\n",
        "    shuffle = True\n",
        ")\n",
        "\n",
        "data_loader_val = torch.utils.data.DataLoader(\n",
        "    torch.utils.data.TensorDataset(X_val, y_val),\n",
        "    batch_size = 32,\n",
        "    shuffle = True\n",
        ")"
      ]
    },
    {
      "cell_type": "code",
      "execution_count": null,
      "metadata": {
        "colab": {
          "base_uri": "https://localhost:8080/"
        },
        "id": "ZI4Ak800i3tc",
        "outputId": "65ba2c96-4c23-471a-ad72-9a012f6f4034"
      },
      "outputs": [
        {
          "name": "stdout",
          "output_type": "stream",
          "text": [
            "torch.Size([32, 1, 128, 313]) torch.Size([32])\n"
          ]
        }
      ],
      "source": [
        "X_dl, y_dl = next(iter(data_loader_train))\n",
        "print(X_dl.size(), y_dl.size())"
      ]
    },
    {
      "cell_type": "markdown",
      "metadata": {},
      "source": [
        "We then can train a linear model using just one fully connected layer. This pipeline converts the shape of the spectrogram into 2 classification options: with noise or without noise."
      ]
    },
    {
      "cell_type": "code",
      "execution_count": null,
      "metadata": {
        "id": "eVdU8t0Qi3te"
      },
      "outputs": [],
      "source": [
        "import torch.nn as nn\n",
        "import torch.nn.functional as F\n",
        "\n",
        "class LinearModel(nn.Module):\n",
        "    def __init__(self):\n",
        "        super().__init__()\n",
        "\n",
        "        self.pipeline = nn.Sequential(\n",
        "            nn.Flatten(),\n",
        "            nn.Linear(128*313, 2)\n",
        "        )\n",
        "\n",
        "    # this is the customary name for the method that computes the scores\n",
        "    # the loss is usually computed outside the model class during the training loop\n",
        "    def forward(self, x):\n",
        "        return self.pipeline(x)\n",
        "\n",
        "    def predict(self, x):\n",
        "\n",
        "        scores = self.forward(x)\n",
        "        return torch.argmax(scores, dim = 1)\n",
        "\n",
        "model = LinearModel().to(device)"
      ]
    },
    {
      "cell_type": "code",
      "execution_count": null,
      "metadata": {
        "colab": {
          "base_uri": "https://localhost:8080/"
        },
        "id": "0cmQVPG8i3tf",
        "outputId": "71e67de4-1053-444e-fecc-89d3964af69e"
      },
      "outputs": [
        {
          "data": {
            "text/plain": [
              "torch.Size([2160, 2])"
            ]
          },
          "execution_count": 165,
          "metadata": {},
          "output_type": "execute_result"
        }
      ],
      "source": [
        "scores = model(X_train)\n",
        "scores.size()"
      ]
    },
    {
      "cell_type": "code",
      "execution_count": null,
      "metadata": {
        "colab": {
          "base_uri": "https://localhost:8080/"
        },
        "id": "kL3B-pG_i3tf",
        "outputId": "3d63f6ca-7796-496d-d7dc-94e862a4d1c0"
      },
      "outputs": [
        {
          "data": {
            "text/plain": [
              "tensor([1, 0, 1,  ..., 1, 1, 1], device='cuda:0')"
            ]
          },
          "execution_count": 166,
          "metadata": {},
          "output_type": "execute_result"
        }
      ],
      "source": [
        "torch.argmax(scores, dim = 1)"
      ]
    },
    {
      "cell_type": "markdown",
      "metadata": {
        "id": "7daFoqRei3tf"
      },
      "source": [
        "Construct a summary so that we can see what happens to the data in each layer of the pipeline"
      ]
    },
    {
      "cell_type": "code",
      "execution_count": null,
      "metadata": {
        "colab": {
          "base_uri": "https://localhost:8080/"
        },
        "id": "wKsXqtyTi3tf",
        "outputId": "77ce5c49-8cae-4685-baff-b64ca946cf30"
      },
      "outputs": [
        {
          "name": "stdout",
          "output_type": "stream",
          "text": [
            "----------------------------------------------------------------\n",
            "        Layer (type)               Output Shape         Param #\n",
            "================================================================\n",
            "           Flatten-1                [-1, 40064]               0\n",
            "            Linear-2                    [-1, 2]          80,130\n",
            "================================================================\n",
            "Total params: 80,130\n",
            "Trainable params: 80,130\n",
            "Non-trainable params: 0\n",
            "----------------------------------------------------------------\n",
            "Input size (MB): 0.15\n",
            "Forward/backward pass size (MB): 0.31\n",
            "Params size (MB): 0.31\n",
            "Estimated Total Size (MB): 0.76\n",
            "----------------------------------------------------------------\n"
          ]
        }
      ],
      "source": [
        "from torchsummary import summary\n",
        "summary(model, input_size=(128, 313))"
      ]
    },
    {
      "cell_type": "markdown",
      "metadata": {},
      "source": [
        "We can also add evaluation and training functions to train and test our models on the data. These are standard functions that compare predicted values to target values and backpropagate loss values, respectively."
      ]
    },
    {
      "cell_type": "code",
      "execution_count": null,
      "metadata": {
        "id": "wmx2pQkxi3tf"
      },
      "outputs": [],
      "source": [
        "def evaluate(model, X, y, multichannel=False):\n",
        "  # start counting total observations and correct predictions\n",
        "  total = 0\n",
        "  total_correct = 0\n",
        "\n",
        "  X, y = X.to(device), y.to(device)\n",
        "\n",
        "  scores = model.forward(X)\n",
        "  y_pred = torch.argmax(scores, dim = 1)\n",
        "\n",
        "  total += X.size(0)\n",
        "  total_correct += (y_pred == y).sum().item()\n",
        "\n",
        "  print(f\"validation accuracy = {total_correct / total:.3f}\")"
      ]
    },
    {
      "cell_type": "code",
      "execution_count": null,
      "metadata": {
        "colab": {
          "base_uri": "https://localhost:8080/"
        },
        "id": "MCRsB_5vi3tf",
        "outputId": "e0de8847-bc1d-414c-e8f7-9bfaf1a9c4d1"
      },
      "outputs": [
        {
          "name": "stdout",
          "output_type": "stream",
          "text": [
            "validation accuracy = 0.607\n"
          ]
        }
      ],
      "source": [
        "evaluate(model, X_train, y_train)"
      ]
    },
    {
      "cell_type": "code",
      "execution_count": null,
      "metadata": {
        "id": "6FeXLEj8i3tg"
      },
      "outputs": [],
      "source": [
        "import torch.optim as optim\n",
        "def train(model, X, y, lr = 0.1, k_epochs = 1, print_every = 2000, evaluate_after_epoch = True, multichannel = False, **opt_kwargs):\n",
        "\n",
        "    # cross-entropy loss function\n",
        "    loss_fn = nn.CrossEntropyLoss()\n",
        "\n",
        "    # optimizer is SGD with momentum\n",
        "    optimizer = optim.SGD(model.parameters(), **opt_kwargs)\n",
        "    #optimizer = torch.optim.Adam(model.parameters(), lr=lr)\n",
        "\n",
        "    for epoch in range(k_epochs):\n",
        "        for i, data in enumerate(data_loader_train):\n",
        "            X, y = data\n",
        "            if multichannel:\n",
        "                X = torch.tile(X, dims = (1, 3, 1, 1))\n",
        "                print(\"multichannel = True\")\n",
        "            X, y = X.to(device), y.to(device)\n",
        "\n",
        "            # clear any accumulated gradients\n",
        "            optimizer.zero_grad()\n",
        "\n",
        "            # compute the loss\n",
        "            y_pred = model(X)\n",
        "\n",
        "            loss   = loss_fn(y_pred, y)\n",
        "\n",
        "            # compute gradients and carry out an optimization step\n",
        "            loss.backward()\n",
        "            optimizer.step()\n",
        "\n",
        "            if (i + 1) % print_every == 0:\n",
        "                print(f\"Epoch {epoch}, batch {i:>3}, loss on batch: {loss.item():.3f}\")\n",
        "\n",
        "        if evaluate_after_epoch:\n",
        "            print(f\"Epoch {epoch}: \", end = \"\")\n",
        "            evaluate(model, X, y, multichannel = multichannel)"
      ]
    },
    {
      "cell_type": "code",
      "execution_count": null,
      "metadata": {
        "id": "SlzibOdwi3tg"
      },
      "outputs": [],
      "source": [
        "# train(model, X_train, y=y_train, k_epochs=30)"
      ]
    },
    {
      "cell_type": "code",
      "execution_count": null,
      "metadata": {
        "id": "IcntUhs5i3tg"
      },
      "outputs": [],
      "source": [
        "# evaluate(model, X_val, y_val)"
      ]
    },
    {
      "cell_type": "markdown",
      "metadata": {
        "id": "JuJBcjiKehLk"
      },
      "source": [
        "## Convolutional Model\n",
        "\n",
        "In previous runs of this model, we've found that the model needs convolutional layers to successfully and accurately predict the noise of an audio file.\n",
        "\n"
      ]
    },
    {
      "cell_type": "code",
      "execution_count": null,
      "metadata": {
        "id": "tvLsiBzlembE"
      },
      "outputs": [],
      "source": [
        "import torch.nn as nn\n",
        "from torch.nn import ReLU\n",
        "\n",
        "class ConvNet(nn.Module):\n",
        "  def __init__(self):\n",
        "    super().__init__()\n",
        "    #self.conv = nn.Conv2d(1, 100, 5)\n",
        "\n",
        "    self.pipeline = torch.nn.Sequential(\n",
        "\n",
        "        # Convolution\n",
        "        nn.Conv2d(1, 100, 5, padding = 2),\n",
        "        ReLU(),\n",
        "\n",
        "        # Linear\n",
        "        nn.Flatten(),\n",
        "        nn.Linear(100*128*313, 2)\n",
        "\n",
        "\n",
        "    )\n",
        "\n",
        "  def forward(self, x):\n",
        "    return self.pipeline(x)\n",
        "\n",
        "model = ConvNet().to(device)"
      ]
    },
    {
      "cell_type": "code",
      "execution_count": null,
      "metadata": {
        "colab": {
          "base_uri": "https://localhost:8080/"
        },
        "id": "_i7S3CYUGlcP",
        "outputId": "16852473-132d-439d-a6a3-6f0459959d2c"
      },
      "outputs": [
        {
          "data": {
            "text/plain": [
              "torch.Size([2160, 1, 128, 313])"
            ]
          },
          "execution_count": 175,
          "metadata": {},
          "output_type": "execute_result"
        }
      ],
      "source": [
        "X_train.size()"
      ]
    },
    {
      "cell_type": "markdown",
      "metadata": {
        "id": "afZOS4xXf7xt"
      },
      "source": [
        "What does the new model look like?"
      ]
    },
    {
      "cell_type": "code",
      "execution_count": null,
      "metadata": {
        "colab": {
          "base_uri": "https://localhost:8080/"
        },
        "id": "eo7hf_B1f-D1",
        "outputId": "e0b6affe-666b-424f-dded-9d664ae5ec91"
      },
      "outputs": [
        {
          "name": "stdout",
          "output_type": "stream",
          "text": [
            "----------------------------------------------------------------\n",
            "        Layer (type)               Output Shape         Param #\n",
            "================================================================\n",
            "            Conv2d-1        [-1, 100, 128, 313]           2,600\n",
            "              ReLU-2        [-1, 100, 128, 313]               0\n",
            "           Flatten-3              [-1, 4006400]               0\n",
            "            Linear-4                    [-1, 2]       8,012,802\n",
            "================================================================\n",
            "Total params: 8,015,402\n",
            "Trainable params: 8,015,402\n",
            "Non-trainable params: 0\n",
            "----------------------------------------------------------------\n",
            "Input size (MB): 0.15\n",
            "Forward/backward pass size (MB): 91.70\n",
            "Params size (MB): 30.58\n",
            "Estimated Total Size (MB): 122.43\n",
            "----------------------------------------------------------------\n"
          ]
        }
      ],
      "source": [
        "summary(model, input_size=(1, 128, 313))"
      ]
    },
    {
      "cell_type": "markdown",
      "metadata": {},
      "source": [
        "Training and testing our model here, we find that we achieve an accuracy of almost 99%!"
      ]
    },
    {
      "cell_type": "code",
      "execution_count": null,
      "metadata": {
        "colab": {
          "base_uri": "https://localhost:8080/"
        },
        "id": "8RIs_Ved_8JV",
        "outputId": "a06c115f-3756-41c8-c9ce-351c4f5ce1d4"
      },
      "outputs": [
        {
          "name": "stdout",
          "output_type": "stream",
          "text": [
            "Epoch 0: validation accuracy = 1.000\n",
            "Epoch 1: validation accuracy = 1.000\n",
            "Epoch 2: validation accuracy = 1.000\n",
            "Epoch 3: validation accuracy = 1.000\n",
            "Epoch 4: validation accuracy = 1.000\n",
            "Epoch 5: validation accuracy = 1.000\n",
            "Epoch 6: validation accuracy = 1.000\n",
            "Epoch 7: validation accuracy = 1.000\n",
            "Epoch 8: validation accuracy = 1.000\n",
            "Epoch 9: validation accuracy = 1.000\n"
          ]
        }
      ],
      "source": [
        "train(model, X_train, y=y_train, k_epochs=10)"
      ]
    },
    {
      "cell_type": "code",
      "execution_count": null,
      "metadata": {
        "colab": {
          "base_uri": "https://localhost:8080/"
        },
        "id": "RLUtwRHXhR9W",
        "outputId": "b8869859-2e57-49f4-fa2f-ab22eef1e3b8"
      },
      "outputs": [
        {
          "name": "stdout",
          "output_type": "stream",
          "text": [
            "validation accuracy = 0.989\n"
          ]
        }
      ],
      "source": [
        "evaluate(model, X_val, y_val)"
      ]
    },
    {
      "cell_type": "code",
      "execution_count": null,
      "metadata": {
        "colab": {
          "base_uri": "https://localhost:8080/"
        },
        "id": "Arx5h2aTI8ZI",
        "outputId": "0ad6e541-d91e-42e0-b603-604871a99125"
      },
      "outputs": [
        {
          "data": {
            "text/plain": [
              "torch.Size([540, 1, 128, 313])"
            ]
          },
          "execution_count": 219,
          "metadata": {},
          "output_type": "execute_result"
        }
      ],
      "source": [
        "X_val.shape"
      ]
    },
    {
      "cell_type": "code",
      "execution_count": null,
      "metadata": {
        "colab": {
          "base_uri": "https://localhost:8080/"
        },
        "id": "cvnSDdzLlTxA",
        "outputId": "dfb5c276-ab63-4820-ec85-603605fbe8d6"
      },
      "outputs": [
        {
          "data": {
            "text/plain": [
              "torch.Size([2160, 1, 128, 313])"
            ]
          },
          "execution_count": 220,
          "metadata": {},
          "output_type": "execute_result"
        }
      ],
      "source": [
        "X_train.shape"
      ]
    }
  ],
  "metadata": {
    "accelerator": "GPU",
    "colab": {
      "gpuType": "L4",
      "provenance": []
    },
    "kernelspec": {
      "display_name": "Python 3",
      "name": "python3"
    },
    "language_info": {
      "codemirror_mode": {
        "name": "ipython",
        "version": 3
      },
      "file_extension": ".py",
      "mimetype": "text/x-python",
      "name": "python",
      "nbconvert_exporter": "python",
      "pygments_lexer": "ipython3",
      "version": "3.9.19"
    }
  },
  "nbformat": 4,
  "nbformat_minor": 0
}
