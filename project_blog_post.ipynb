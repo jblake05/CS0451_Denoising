{
 "cells": [
  {
   "cell_type": "markdown",
   "metadata": {},
   "source": [
    "# Project Blog Post\n",
    "2024-05-17\n",
    "Wow! You completed an awesome project with your group. It’s time for you to tell the world (and especially me) about it on your blog.\n",
    "\n",
    "Your project blog post is the authoritative description of what you achieved and what you learned. It should describe all the achievement, effort, and learning that you want us to factor in to your final grade in the course. Your blog post should have eight sections, which are described below.\n",
    "\n",
    "You can write the first seven sections of your blog post as a group and all post them on your separate blogs. If you take this path, you should just make sure to note it. The final section should be completed individually."
   ]
  },
  {
   "cell_type": "markdown",
   "metadata": {},
   "source": [
    "# 1 Abstract\n",
    "\n",
    "Your abstract is a one-paragraph summary of the problem you addressed, the approach(es) that you used to address it, and the big-picture results that you obtained.\n",
    "\n",
    "At the end of your abstract, **please include a link to the GitHub repository** that houses your project code and other deliverables."
   ]
  },
  {
   "cell_type": "markdown",
   "metadata": {},
   "source": [
    "# 2 Introduction\n",
    "\n",
    "Your introduction should describe the big-picture problem that you aimed to address in your project. What’s the problem to be solved, and why is it important? Who has tried solving this problem already, and what did they do? I would expect most introductions to reference no fewer than 2 scholarly studies that attempted similar tasks, although 5 is probably a better target.\n",
    "\n",
    "You may be able to recycle some content from your project proposal for your introduction.\n",
    "\n",
    "When citing scholarly studies in a blog post, please use Quarto citations. For a quick overview, see the appendix on references in Quarto."
   ]
  },
  {
   "cell_type": "markdown",
   "metadata": {},
   "source": [
    "# 3 Values Statement\n",
    "\n",
    "Your values statement should be a few paragraphs that address the following set of questions:\n",
    "\n",
    "- Who are the potential **users** of your project? Who, *other than your users*, might still be **affected** by your project?\n",
    "- **Who benefits** from technology that solves the problem you address?\n",
    "- **Who could be harmed** from technology that solves the problem you well address?\n",
    "- What is **your personal reason** for working on this problem?\n",
    "- Based on your reflection, **would the world be a more equitable, just, joyful, peaceful, or sustainable place** based on the technology that you implemented?"
   ]
  },
  {
   "cell_type": "markdown",
   "metadata": {},
   "source": [
    "# 4 Materials and Methods\n",
    "\n",
    "Your Materials and Methods section should describe:\n",
    "\n",
    "## Your Data\n",
    "Include some discussion of where it came from, who collected it (include a citation), how it was collected, and what each row represents (a person, an environmental event, a body of text, etc) Please also include a discussion of potential limitations in the data: who or what is represented, and who or what isn’t?\n",
    "\n",
    "In structuring your description of the data, I encourage you to address many of the questions outlined in Gebru et al. (2021), although it is not necessary for you to write a complete data sheet for your data set.\n",
    "\n",
    "## Your Approach\n",
    "This is the primary section where you should describe what you did. Carefully describe:\n",
    "\n",
    "- What features of your data you used as predictors for your models, and what features (if any) you used as targets.\n",
    "- Whether you subset your data in any way, and for what reasons.\n",
    "- What model(s) you used trained on your data, and how you chose them.\n",
    "- How you trained your models, and on what hardware.\n",
    "- How you evaluated your models (loss, accuracy, etc), and the size of your test set.\n",
    "- If you performed an audit for bias, how you approached this and what metrics you used."
   ]
  },
  {
   "cell_type": "markdown",
   "metadata": {},
   "source": [
    "# 5 Results\n",
    "\n",
    "This is the section in which you describe the main findings or achievements of your model. You can report things like accuracies on train/test data, loss scores, comparisons to previous models, etc. To compare a small set of numbers, tables are fine, but more complex phenomena should be illustrated with figures. Both figures and tables should include appropriate captions, axis labels, legends, and another professional annotations. It’s fine for your figures to either be constructed manually or as computational outputs (e.g. from Pandas).\n",
    "\n",
    "Please remember: your results do not speak for themselves. While figures and tables are highly effective forms of communication, your prose is necessary to tell your story."
   ]
  },
  {
   "cell_type": "markdown",
   "metadata": {},
   "source": [
    "# 6 Concluding Discussion\n",
    "\n",
    "Your conclusion is the right time to assess:\n",
    "\n",
    "In what ways did our project work?\n",
    "Did we meet the goals that we set at the beginning of the project?\n",
    "How do our results compare to the results of others who have also studied similar problems?\n",
    "If we had more time, data, or computational resources, what might we do differently in order to improve further?"
   ]
  },
  {
   "cell_type": "markdown",
   "metadata": {},
   "source": [
    "7 Group Contributions Statement\n",
    "\n",
    "When writing your group contributions statement, please keep in mind that everyone’s contributions are visible in the commit history of your GitHub repository. I do check these commit histories in case I suspect highly imbalanced divisions of labor.\n",
    "In your group contributions statement, please include a short paragraph for each group member describing how they contributed to the project:\n",
    "\n",
    "Who worked on which parts of the source code?\n",
    "Who performed or visualized which experiments?\n",
    "Who led the writing of which parts of the blog post?\n",
    "Etc."
   ]
  },
  {
   "cell_type": "markdown",
   "metadata": {},
   "source": [
    "# 8 Personal Reflection\n",
    "\n",
    "This is the only section that you are required to write individually and not with your project group.\n",
    "At the very end of your blog post, in a few paragraphs, respond to the following questions:\n",
    "\n",
    "What did you learn from the process of researching, implementing, and communicating about your project?\n",
    "How do you feel about what you achieved? Did meet your initial goals? Did you exceed them or fall short? In what ways?\n",
    "In what ways will you carry the experience of working on this project into your next courses, career stages, or personal life?"
   ]
  }
 ],
 "metadata": {
  "language_info": {
   "name": "python"
  }
 },
 "nbformat": 4,
 "nbformat_minor": 2
}
