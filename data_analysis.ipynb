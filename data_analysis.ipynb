{
 "cells": [
  {
   "cell_type": "raw",
   "metadata": {},
   "source": [
    "---\n",
    "title: Data Analysis\n",
    "author: Jeff & Charlie\n",
    "date: '2024-04-15'\n",
    "description: \"Exploratory Analysis of WAV Data\"\n",
    "format: html\n",
    "---"
   ]
  },
  {
   "cell_type": "markdown",
   "metadata": {},
   "source": [
    "# Data Analysis\n",
    "\n"
   ]
  },
  {
   "cell_type": "raw",
   "metadata": {},
   "source": [
    "Credit:\n",
    "\n",
    "@article{reddy2019scalable,\n",
    "  title={A Scalable Noisy Speech Dataset and Online Subjective Test Framework},\n",
    "  author={Reddy, Chandan KA and Beyrami, Ebrahim and Pool, Jamie and Cutler, Ross and Srinivasan, Sriram and Gehrke, Johannes},\n",
    "  journal={Proc. Interspeech 2019},\n",
    "  pages={1816--1820},\n",
    "  year={2019}\n",
    "}"
   ]
  }
 ],
 "metadata": {
  "kernelspec": {
   "display_name": "ml-0451",
   "language": "python",
   "name": "python3"
  },
  "language_info": {
   "name": "python",
   "version": "3.9.18"
  }
 },
 "nbformat": 4,
 "nbformat_minor": 2
}
