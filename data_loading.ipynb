{
 "cells": [
  {
   "cell_type": "code",
   "execution_count": null,
   "metadata": {},
   "outputs": [],
   "source": [
    "# get clean file\n",
    "# get noise file\n",
    "\n",
    "# extract metadata\n",
    "# plot individuals (visualize soundwave)\n",
    "# create combined noisy speech file\n",
    "# visualize soundwave"
   ]
  }
 ],
 "metadata": {
  "language_info": {
   "name": "python"
  }
 },
 "nbformat": 4,
 "nbformat_minor": 2
}
